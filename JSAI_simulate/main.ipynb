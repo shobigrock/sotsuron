{
 "cells": [
  {
   "cell_type": "markdown",
   "metadata": {},
   "source": [
    "シミュレーション実験を行うファイル"
   ]
  },
  {
   "cell_type": "markdown",
   "metadata": {},
   "source": [
    "# モジュールインポート"
   ]
  },
  {
   "cell_type": "code",
   "execution_count": null,
   "metadata": {},
   "outputs": [],
   "source": [
    "import numpy as np\n",
    "import pandas as pd\n",
    "from make_artificialdata import make_data_3dims\n",
    "from simulator import simulator"
   ]
  },
  {
   "cell_type": "markdown",
   "metadata": {},
   "source": [
    "# 人工データ作成"
   ]
  },
  {
   "cell_type": "code",
   "execution_count": null,
   "metadata": {},
   "outputs": [],
   "source": [
    "\"\"\"\n",
    "context: n_dims次元のdataframe文脈データ\n",
    "n_actions: 行動の種類数\n",
    "n_dims: 文脈の次元数(contextの列数)\n",
    "\"\"\"\n",
    "context, n_actions, n_dims = make_data_3dims()"
   ]
  },
  {
   "cell_type": "markdown",
   "metadata": {},
   "source": [
    "# UCIデータ読み込み，前処理"
   ]
  },
  {
   "cell_type": "code",
   "execution_count": null,
   "metadata": {},
   "outputs": [],
   "source": [
    "# ここで読み込み，前処理"
   ]
  },
  {
   "cell_type": "markdown",
   "metadata": {},
   "source": [
    "# シミュレーション準備"
   ]
  },
  {
   "cell_type": "code",
   "execution_count": null,
   "metadata": {},
   "outputs": [],
   "source": [
    "# 選択確率が等しくなった時にランダム選択する関数\n",
    "# Define global functions\n",
    "# 推定最適行動が複数ある場合，その中からランダムで行動を選ぶグローバル関数．\n",
    "def break_tie(_range):\n",
    "    indices = np.argwhere(_range == np.max(_range))\n",
    "    index = np.random.randint(0,len(indices))\n",
    "\n",
    "    return indices[index][0]"
   ]
  },
  {
   "cell_type": "markdown",
   "metadata": {},
   "source": [
    "# 人工データでシミュレーション"
   ]
  },
  {
   "cell_type": "markdown",
   "metadata": {},
   "source": []
  }
 ],
 "metadata": {
  "language_info": {
   "name": "python"
  }
 },
 "nbformat": 4,
 "nbformat_minor": 2
}
